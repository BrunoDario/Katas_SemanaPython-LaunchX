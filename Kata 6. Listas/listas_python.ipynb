{
 "cells": [
  {
   "cell_type": "markdown",
   "metadata": {},
   "source": [
    "# Listas en Python"
   ]
  },
  {
   "cell_type": "markdown",
   "metadata": {},
   "source": [
    "Ejercicio 1: Crear y usar listas en Python"
   ]
  },
  {
   "cell_type": "code",
   "execution_count": null,
   "metadata": {},
   "outputs": [],
   "source": [
    "planets = [\"Mercurio\", \"Venus\", \"Tierra\", \"Marte\", \"Jupiter\", \"Saturno\", \"Urano\", \"Neptuno\"]\n",
    "print(planets)\n",
    "print(f\"El número de planetas en el Sistema Solar es de → {len(planets)}\")\n",
    "print(f\"El último planeta del Sistema Solar es → {planets[-1]}\")"
   ]
  },
  {
   "cell_type": "code",
   "execution_count": null,
   "metadata": {},
   "outputs": [],
   "source": [
    "planets.append(\"Plutón\")\n",
    "print(planets)\n",
    "print(f\"El número de planetas en el Sistema Solar es de → {len(planets)}\")\n",
    "print(f\"El último planeta del Sistema Solar es → {planets[-1]}\")"
   ]
  },
  {
   "cell_type": "markdown",
   "metadata": {},
   "source": [
    "Ejercicio 2: Trabajando con datos de una lista"
   ]
  },
  {
   "cell_type": "code",
   "execution_count": null,
   "metadata": {},
   "outputs": [],
   "source": [
    "planets = [\"Mercurio\", \"Venus\", \"Tierra\", \"Marte\", \"Jupiter\", \"Saturno\", \"Urano\", \"Neptuno\"]\n",
    "\n",
    "user_planet = input(\"Ingrese el nombre del planeta → \").replace(\"ú\", \"u\")\n",
    "planet_name = user_planet.title()\n",
    "\n",
    "planet_index = planets.index(planet_name)\n",
    "closer_planets = planets[0:planet_index]\n",
    "further_planets = planets[planet_index+1:]\n",
    "\n",
    "print(f\"Los planetas más cercanos al Sol que {planet_name} son → {closer_planets}\")\n",
    "print(f\"Los planetas más alejados del Sol que {planet_name} son → {further_planets}\")"
   ]
  }
 ],
 "metadata": {
  "interpreter": {
   "hash": "56cefbf406194e64bae3d2fea5f688eda9e21f53b75e5a996e2cd32216d3b614"
  },
  "kernelspec": {
   "display_name": "Python 3.9.10 64-bit (windows store)",
   "language": "python",
   "name": "python3"
  },
  "language_info": {
   "codemirror_mode": {
    "name": "ipython",
    "version": 3
   },
   "file_extension": ".py",
   "mimetype": "text/x-python",
   "name": "python",
   "nbconvert_exporter": "python",
   "pygments_lexer": "ipython3",
   "version": "3.9.10"
  },
  "orig_nbformat": 4
 },
 "nbformat": 4,
 "nbformat_minor": 2
}
