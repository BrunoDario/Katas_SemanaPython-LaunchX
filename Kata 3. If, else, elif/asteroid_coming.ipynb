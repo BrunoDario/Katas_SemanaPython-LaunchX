{
 "cells": [
  {
   "cell_type": "markdown",
   "metadata": {},
   "source": [
    "# Distancia segura de asteroide\n",
    "Con respecto al Sol"
   ]
  },
  {
   "cell_type": "code",
   "execution_count": null,
   "metadata": {},
   "outputs": [],
   "source": [
    "asteroide = int(input('Velocidad del asteroide → '))\n",
    "\n",
    "if asteroide > 25:\n",
    "    print('¡ADVERTENCIA!\\nEl asteroide viene hacia la Tierra D:')\n",
    "else:\n",
    "    print('¡Todo tranqui por aquí ;)! \\nVaya a tomar una Coca-Cola')"
   ]
  },
  {
   "cell_type": "code",
   "execution_count": null,
   "metadata": {},
   "outputs": [],
   "source": [
    "asteroide = int(input('Velocidad del asteroide → '))\n",
    "\n",
    "if asteroide > 20:\n",
    "    print('¡Un asteroide atravesó la atmósfera D:!\\nBusquen un rayo de luz en el cielo')\n",
    "elif asteroide == 20:\n",
    "    print('¡Un asteroide atravesó la atmósfera D:!\\nBusquen un rayo de luz en el cielo')\n",
    "else:\n",
    "    print('¡Todo tranqui por aquí ;)! \\nVaya a tomar una Coca-Cola')"
   ]
  },
  {
   "cell_type": "markdown",
   "metadata": {},
   "source": [
    "# Cálculo de amenaza de Asteroide"
   ]
  },
  {
   "cell_type": "code",
   "execution_count": null,
   "metadata": {},
   "outputs": [],
   "source": [
    "tamaño_asteroide = int(input('Tamaño del asteroide → '))\n",
    "velocidad_asteroide = int(input('Velocidad del asteroide → '))\n",
    "\n",
    "if tamaño_asteroide >= 25 and tamaño_asteroide <=1000 and velocidad_asteroide > 25:\n",
    "    print('¡ADVERTENCIA!\\nEl asteroide viene hacia la Tierra D:')\n",
    "elif tamaño_asteroide > 1000 and velocidad_asteroide > 25:\n",
    "    print('La extinción de la humanidad es inevitable UnU')\n",
    "elif tamaño_asteroide < 25 and velocidad_asteroide > 20:\n",
    "    print('¡Un asteroide atravesó la atmósfera D:!\\nBusquen un rayo de luz en el cielo')\n",
    "else:\n",
    "    print('¡Todo tranqui por aquí ;)! \\nVaya a tomar una Coca-Cola')"
   ]
  }
 ],
 "metadata": {
  "interpreter": {
   "hash": "56cefbf406194e64bae3d2fea5f688eda9e21f53b75e5a996e2cd32216d3b614"
  },
  "kernelspec": {
   "display_name": "Python 3.9.10 64-bit (windows store)",
   "language": "python",
   "name": "python3"
  },
  "language_info": {
   "codemirror_mode": {
    "name": "ipython",
    "version": 3
   },
   "file_extension": ".py",
   "mimetype": "text/x-python",
   "name": "python",
   "nbconvert_exporter": "python",
   "pygments_lexer": "ipython3",
   "version": "3.9.10"
  },
  "orig_nbformat": 4
 },
 "nbformat": 4,
 "nbformat_minor": 2
}
