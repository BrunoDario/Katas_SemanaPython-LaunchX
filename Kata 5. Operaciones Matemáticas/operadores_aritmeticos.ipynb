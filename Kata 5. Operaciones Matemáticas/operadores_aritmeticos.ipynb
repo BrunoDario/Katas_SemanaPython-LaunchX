{
 "cells": [
  {
   "cell_type": "markdown",
   "metadata": {},
   "source": [
    "### Notas"
   ]
  },
  {
   "cell_type": "code",
   "execution_count": null,
   "metadata": {},
   "outputs": [],
   "source": [
    "#División de piso\n",
    "div = 30//7\n",
    "rest = 30%7\n",
    "print(div)\n",
    "print(rest)\n",
    "\n",
    "#Valores absolutos\n",
    "A = 15-7\n",
    "B = 7-15\n",
    "print(abs(A))\n",
    "\n",
    "#Redondear números decimales\n",
    "num = 13.3\n",
    "print(round(num))\n",
    "\n",
    "# Redondear hacia abajo o arriba\n",
    "from math import ceil, floor\n",
    "\n",
    "round_up = ceil(num)\n",
    "round_down = floor(num)\n",
    "print(round_up)\n",
    "print(round_down)"
   ]
  },
  {
   "cell_type": "markdown",
   "metadata": {},
   "source": [
    "# Distancia entre dos planetas"
   ]
  },
  {
   "cell_type": "markdown",
   "metadata": {},
   "source": [
    "Ejercicio 1"
   ]
  },
  {
   "cell_type": "code",
   "execution_count": null,
   "metadata": {},
   "outputs": [],
   "source": [
    "planeta_1 = 149597870\n",
    "planeta_2 = 778547200\n",
    "\n",
    "distance = planeta_1-planeta_2\n",
    "dis_miles = (abs(distance))*0.621\n",
    "\n",
    "print(f\"Distancia en Kilometros → {round(abs(distance))}\")\n",
    "print(f\"Distancia en Millas → {round(dis_miles)}\")"
   ]
  },
  {
   "cell_type": "markdown",
   "metadata": {},
   "source": [
    "Ejercicio 2"
   ]
  },
  {
   "cell_type": "code",
   "execution_count": null,
   "metadata": {},
   "outputs": [],
   "source": [
    "planeta_1 = int(input(\"Ingrese la distancia del primer planeta en KM → \"))\n",
    "planeta_2 = int(input(\"Ingrese la distancia del segundo planeta en KM→ \"))\n",
    "\n",
    "distance_km = round(abs(planeta_2-planeta_1))\n",
    "distance_miles = round(distance_km*0.621)\n",
    "\n",
    "print(f\"Distancia en Kilometros → {distance_km} Km\")\n",
    "print(f\"Distancia en Millas → {distance_miles} Mi\")"
   ]
  }
 ],
 "metadata": {
  "interpreter": {
   "hash": "56cefbf406194e64bae3d2fea5f688eda9e21f53b75e5a996e2cd32216d3b614"
  },
  "kernelspec": {
   "display_name": "Python 3.9.10 64-bit (windows store)",
   "language": "python",
   "name": "python3"
  },
  "language_info": {
   "codemirror_mode": {
    "name": "ipython",
    "version": 3
   },
   "file_extension": ".py",
   "mimetype": "text/x-python",
   "name": "python",
   "nbconvert_exporter": "python",
   "pygments_lexer": "ipython3",
   "version": "3.9.10"
  },
  "orig_nbformat": 4
 },
 "nbformat": 4,
 "nbformat_minor": 2
}
