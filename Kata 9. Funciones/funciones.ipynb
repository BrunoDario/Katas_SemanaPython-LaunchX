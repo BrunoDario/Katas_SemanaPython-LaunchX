{
 "cells": [
  {
   "cell_type": "markdown",
   "metadata": {},
   "source": [
    "## Uso de funciones en Python"
   ]
  },
  {
   "cell_type": "markdown",
   "metadata": {},
   "source": [
    "Ejercicio 1: Trabajar con argumentos en funciones"
   ]
  },
  {
   "cell_type": "code",
   "execution_count": null,
   "metadata": {},
   "outputs": [],
   "source": [
    "def report_tanques(tank1, tank2, tank3):\n",
    "    prom = (tank1+tank2+tank3)/3\n",
    "    return f\"\"\"\n",
    "    Reporte de combustible:\n",
    "    Promedio total: {prom}%\n",
    "    Tanque 1: {tank1}%\n",
    "    Tanque 2: {tank2}%\n",
    "    Tanque 3: {tank3}%\n",
    "    \"\"\"\n",
    "\n",
    "print(report_tanques(95,64,78))"
   ]
  },
  {
   "cell_type": "code",
   "execution_count": null,
   "metadata": {},
   "outputs": [],
   "source": [
    "def promedio(values):\n",
    "    total = sum(values)\n",
    "    tamaño = len(values)\n",
    "    prom = total/tamaño\n",
    "    return prom\n",
    "\n",
    "print(promedio([95,64,78]))"
   ]
  },
  {
   "cell_type": "code",
   "execution_count": null,
   "metadata": {},
   "outputs": [],
   "source": [
    "def report_tanquesYpromedio(tank1, tank2, tank3):\n",
    "    return f\"\"\"\n",
    "    Reporte de combustible:\n",
    "    Promedio total: {promedio([tank1,tank2,tank3])}%\n",
    "    Tanque 1: {tank1}%\n",
    "    Tanque 2: {tank2}%\n",
    "    Tanque 3: {tank3}%\n",
    "    \"\"\"\n",
    "\n",
    "print(report_tanquesYpromedio(95,64,78))"
   ]
  },
  {
   "cell_type": "markdown",
   "metadata": {},
   "source": [
    "Ejercicio 2: Trabajo con argumentos de palabra clave"
   ]
  },
  {
   "cell_type": "code",
   "execution_count": null,
   "metadata": {},
   "outputs": [],
   "source": [
    "def reporte_cohete(prelaunch_datetime, travel_time, destination, extern_tank, intern_tank):\n",
    "    return f\"\"\"\n",
    "    Reporte de Cohete:\n",
    "\n",
    "    Hora de Lanzamiento: {prelaunch_datetime} \n",
    "    Tiempo de vuelo: {travel_time} horas\n",
    "    Destino: {destination}\n",
    "    Combustible Externo: {extern_tank} galones\n",
    "    Combustible Interno: {intern_tank} galones\n",
    "    \"\"\"\n",
    "\n",
    "print(reporte_cohete(10,2, \"Moon\", 64, 98))"
   ]
  },
  {
   "cell_type": "code",
   "execution_count": null,
   "metadata": {},
   "outputs": [],
   "source": [
    "def reporte_vuelo(destination, *minutes, **fuel_reserves):\n",
    "    return f\"\"\"\n",
    "    Reporte de vuelo:\n",
    "\n",
    "    Destino: {destination}\n",
    "    Tiempo total de vuelo: {sum(minutes)} minutos\n",
    "    Reservas totales de combustible: {sum(fuel_reserves.values())}\n",
    "    \"\"\"\n",
    "\n",
    "print(reporte_vuelo(\"Moon\", 10, 15, 51, main=300000, external=200000))"
   ]
  },
  {
   "cell_type": "code",
   "execution_count": null,
   "metadata": {},
   "outputs": [],
   "source": [
    "def reporte_vuelo(destination, *minutes, **fuel_reserves):\n",
    "    reporte= f\"\"\"\n",
    "    Reporte de vuelo:\n",
    "\n",
    "    Destino: {destination}\n",
    "    Tiempo total de vuelo: {sum(minutes)} minutos\n",
    "    Reservas totales de combustible: {sum(fuel_reserves.values())}\n",
    "    \"\"\"\n",
    "    for tank_name, galones in fuel_reserves.items():\n",
    "        reporte += f\"{tank_name} tanque → {galones} galones restantes\\n\"\n",
    "    return reporte\n",
    "\n",
    "print(reporte_vuelo(\"Moon\", 10, 15, 51, main=300000, external=200000))"
   ]
  }
 ],
 "metadata": {
  "interpreter": {
   "hash": "56cefbf406194e64bae3d2fea5f688eda9e21f53b75e5a996e2cd32216d3b614"
  },
  "kernelspec": {
   "display_name": "Python 3.9.10 64-bit (windows store)",
   "language": "python",
   "name": "python3"
  },
  "language_info": {
   "codemirror_mode": {
    "name": "ipython",
    "version": 3
   },
   "file_extension": ".py",
   "mimetype": "text/x-python",
   "name": "python",
   "nbconvert_exporter": "python",
   "pygments_lexer": "ipython3",
   "version": "3.9.10"
  },
  "orig_nbformat": 4
 },
 "nbformat": 4,
 "nbformat_minor": 2
}
